{
 "cells": [
  {
   "cell_type": "markdown",
   "id": "b0976a39",
   "metadata": {},
   "source": [
    "Install qlatent is required"
   ]
  },
  {
   "cell_type": "code",
   "execution_count": 2,
   "id": "e0407efb",
   "metadata": {},
   "outputs": [
    {
     "name": "stdout",
     "output_type": "stream",
     "text": [
      "Requirement already satisfied: qlatent in /home/koremmi/.conda/envs/michael_projects/lib/python3.12/site-packages (1.0.5)\n"
     ]
    }
   ],
   "source": [
    "!pip install qlatent"
   ]
  },
  {
   "cell_type": "code",
   "execution_count": null,
   "id": "b8d4f7d3",
   "metadata": {
    "ExecuteTime": {
     "end_time": "2024-07-09T12:30:08.590865Z",
     "start_time": "2024-07-09T12:30:03.532384Z"
    }
   },
   "outputs": [],
   "source": [
    "import unittest\n",
    "import importlib\n",
    "from tqdm.auto import tqdm\n",
    "from qlatent.qmnli.qmnli import *\n",
    "from qlatent.qmnli.qmnli import _QMNLI, QMNLI\n",
    "\n",
    "import torch\n",
    "device = 0 if torch.cuda.is_available() else -1\n",
    "print(device)"
   ]
  },
  {
   "cell_type": "code",
   "execution_count": null,
   "id": "771451c0-cdc4-4928-bed7-ecabb1c979f4",
   "metadata": {},
   "outputs": [],
   "source": [
    "import qpsychometric.social_biases.ambivalent_sexism_inventory.asi_qmnli\n",
    "from qpsychometric.social_biases.ambivalent_sexism_inventory.asi_qmnli import *\n",
    "import qpsychometric.personality_traits.big5.big5_qmnli\n",
    "from qpsychometric.personality_traits.big5.big5_qmnli import *\n",
    "import qpsychometric.personality_traits.short_dark_triad.sd3_qmnli\n",
    "from qpsychometric.personality_traits.short_dark_triad.sd3_qmnli import *\n",
    "import qpsychometric.mental_health.sense_of_coherence.soc_qmnli\n",
    "from qpsychometric.mental_health.sense_of_coherence.soc_qmnli import *\n",
    "import qpsychometric.mental_health.patient_health_questionnaire.phq_qmnli\n",
    "from qpsychometric.mental_health.patient_health_questionnaire.phq_qmnli import *\n",
    "import qpsychometric.mental_health.generalized_anxiety_disorder.gad_qmnli\n",
    "from qpsychometric.mental_health.generalized_anxiety_disorder.gad_qmnli import *\n",
    "import qpsychometric.personality_traits.compassion_scale.compassion_scale_qmnli\n",
    "from qpsychometric.personality_traits.compassion_scale.compassion_scale_qmnli import *"
   ]
  },
  {
   "cell_type": "code",
   "execution_count": 88,
   "id": "a112c319-b425-4123-abfc-75c1517d9985",
   "metadata": {},
   "outputs": [],
   "source": [
    "def test_questionnaire(module, questionnaire_qmnli : list[QMNLI]) -> list[bool]:\n",
    "    \n",
    "    questions_equalities = []\n",
    "\n",
    "    for Q in tqdm(questionnaire_qmnli):\n",
    "        Qs = split_question(Q,\n",
    "                            index=Q.index,\n",
    "                            scales=[Q.scale],\n",
    "                            softmax=[True],\n",
    "                            filters={'unfiltered':{},\n",
    "                                    \"positiveonly\":Q().get_filter_for_postive_keywords()\n",
    "                                    },\n",
    "                            )\n",
    "        print(Qs[0]._descriptor['Ordinal'])\n",
    "        Qs[0].run(mnli)\n",
    "        q_pdf = Qs[0]._pdf\n",
    "        Q_same = Q.__name__\n",
    "        Q_func = getattr(module, Q_same)\n",
    "        Qs = split_question(Q_func,\n",
    "                            index=Q_func.index,\n",
    "                            scales=[Q_func.scale],\n",
    "                            softmax=[True],\n",
    "                            filters={'unfiltered':{},\n",
    "                                    \"positiveonly\":Q().get_filter_for_postive_keywords()\n",
    "                                    },\n",
    "                            )\n",
    "        print(Qs[0]._descriptor['Ordinal'])\n",
    "        Qs[0].run(mnli)\n",
    "        questions_equalities.append(q_pdf.equals(Qs[0]._pdf))\n",
    "    \n",
    "    return questions_equalities\n",
    "\n",
    "def get_middle_question(questionnaire):\n",
    "    middle = len(questionnaire) // 2\n",
    "    Q = questionnaire[middle]\n",
    "    Qs = split_question(Q,\n",
    "                        index=Q.index,\n",
    "                        scales=[Q.scale],\n",
    "                        softmax=[True],\n",
    "                        filters={'unfiltered':{},\n",
    "                                \"positiveonly\":Q().get_filter_for_postive_keywords()\n",
    "                                },\n",
    "                        )\n",
    "    print(Qs[0]._descriptor['Ordinal'])\n",
    "    Qs[0].run(mnli)\n",
    "    return Qs[0]\n",
    "\n",
    "class TestQuestionnairesMethods(unittest.TestCase):\n",
    "\n",
    "    asi_module = qpsychometric.social_biases.ambivalent_sexism_inventory.asi_qmnli\n",
    "    asi_questionnaire = asi_qmnli\n",
    "    \n",
    "    big5_module = qpsychometric.personality_traits.big5.big5_qmnli\n",
    "    big5_questionnaire = big5_qmnli\n",
    "\n",
    "    sd3_module = qpsychometric.personality_traits.short_dark_triad.sd3_qmnli\n",
    "    sd3_questionnaire = sd3_qmnli\n",
    "\n",
    "    soc_module = qpsychometric.mental_health.sense_of_coherence.soc_qmnli\n",
    "    soc_questionnaire = soc_qmnli\n",
    "\n",
    "    phq_module = qpsychometric.mental_health.patient_health_questionnaire.phq_qmnli\n",
    "    phq_questionnaire = phq_qmnli\n",
    "\n",
    "    gad_module = qpsychometric.mental_health.generalized_anxiety_disorder.gad_qmnli\n",
    "    gad_questionnaire = gad_qmnli\n",
    "\n",
    "    compassion_scale_module = qpsychometric.personality_traits.compassion_scale.compassion_scale_qmnli\n",
    "    compassion_scale_questionnaire = compassion_scale_qmnli\n",
    "    \n",
    "    def test_asi_questionnaire(self):\n",
    "        questions_equalities = test_questionnaire(self.asi_module, self.asi_questionnaire)\n",
    "        self.assertTrue(expr=False not in questions_equalities)\n",
    "\n",
    "    def test_big5_questionnaire(self):\n",
    "        questions_equalities = test_questionnaire(self.big5_module, self.big5_questionnaire)\n",
    "        self.assertTrue(expr=False not in questions_equalities)\n",
    "\n",
    "    def test_sd3_questionnaire(self):\n",
    "        questions_equalities = test_questionnaire(self.sd3_module, self.sd3_questionnaire)\n",
    "        self.assertTrue(expr=False not in questions_equalities)\n",
    "\n",
    "    def test_soc_questionnaire(self):\n",
    "        questions_equalities = test_questionnaire(self.soc_module, self.soc_questionnaire)\n",
    "        self.assertTrue(expr=False not in questions_equalities)\n",
    "\n",
    "    def test_phq_questionnaire(self):\n",
    "        questions_equalities = test_questionnaire(self.phq_module, self.phq_questionnaire)\n",
    "        self.assertTrue(expr=False not in questions_equalities)\n",
    "\n",
    "    def test_gad_questionnaire(self):\n",
    "        questions_equalities = test_questionnaire(self.gad_module, self.gad_questionnaire)\n",
    "        self.assertTrue(expr=False not in questions_equalities)\n",
    "\n",
    "    def test_compassion_scale_questionnaire(self):\n",
    "        questions_equalities = test_questionnaire(self.compassion_scale_module, self.compassion_scale_questionnaire)\n",
    "        self.assertTrue(expr=False not in questions_equalities)\n",
    "\n",
    "    def test_asi_middle_question(self):\n",
    "        kw_fairness = ['sexist', 'prejudiced', 'improper',]\n",
    "        kw_favors   = ['legitimate', 'rightful', 'reasonable']\n",
    "        kw_all      = kw_fairness + kw_favors\n",
    "        kw_all.sort()\n",
    "        \n",
    "        middle_question = get_middle_question(self.asi_questionnaire)\n",
    "        kw = list(middle_question._dimensions['index'].keys())\n",
    "        kw.sort()\n",
    "\n",
    "        self.assertEqual(kw_all, kw)\n",
    "\n",
    "    def test_big5_middle_question(self):\n",
    "        emo_pos = ['sociable', 'in the center of attention']\n",
    "        emo_neg = ['quiet', 'reserved', 'shy']\n",
    "        emo_all = emo_pos + emo_neg\n",
    "        emo_all.sort()\n",
    "        \n",
    "        middle_question = get_middle_question(self.big5_questionnaire)\n",
    "        emo = list(middle_question._dimensions['emotion'].keys())\n",
    "        emo.sort()\n",
    "\n",
    "        self.assertEqual(emo_all, emo)\n",
    "\n",
    "    def test_sd3_middle_question(self):\n",
    "        emo_pos = ['like', 'love', 'want to']\n",
    "        emo_neg = ['hate', 'dislike', 'despise']\n",
    "        emo_all = emo_pos + emo_neg\n",
    "        emo_all.sort()\n",
    "        \n",
    "        middle_question = get_middle_question(self.sd3_questionnaire)\n",
    "        emo = list(middle_question._dimensions['emotion'].keys())\n",
    "        emo.sort()\n",
    "\n",
    "        self.assertEqual(emo_all, emo)\n",
    "\n",
    "    def test_soc_middle_question(self):\n",
    "        kw_attitude_pos = ['clear', 'coherent', 'logical', 'comprehensible']\n",
    "        kw_attitude_neg   = ['mixed-up', 'confounded']\n",
    "        kw_all      = kw_attitude_pos + kw_attitude_neg\n",
    "        kw_all.sort()\n",
    "        \n",
    "        middle_question = get_middle_question(self.soc_questionnaire)\n",
    "        kw = list(middle_question._dimensions['index'].keys())\n",
    "        kw.sort()\n",
    "\n",
    "        self.assertEqual(kw_all, kw)\n",
    "\n",
    "    def test_phq_middle_question(self):\n",
    "        emo_pos = ['poor appetite', 'been overeating']\n",
    "        emo_neg = ['healthy appetite', 'satisfying appetite']\n",
    "        emo_all = emo_pos + emo_neg\n",
    "        emo_all.sort()\n",
    "        \n",
    "        middle_question = get_middle_question(self.phq_questionnaire)\n",
    "        emo = list(middle_question._dimensions['emotion'].keys())\n",
    "        emo.sort()\n",
    "\n",
    "        self.assertEqual(emo_all, emo)\n",
    "\n",
    "    def test_gad_middle_question(self):\n",
    "        emo_pos = ['trouble', 'difficulty']\n",
    "        emo_neg = ['no problem', 'an easy time']\n",
    "        emo_all = emo_pos + emo_neg\n",
    "        emo_all.sort()\n",
    "        \n",
    "        middle_question = get_middle_question(self.gad_questionnaire)\n",
    "        emo = list(middle_question._dimensions['emotion'].keys())\n",
    "        emo.sort()\n",
    "\n",
    "        self.assertEqual(emo_all, emo)\n",
    "\n",
    "    def test_compassion_scale_middle_question(self):\n",
    "        kw_attitude_pos = ['correct', 'true', 'accurate', 'a fact']\n",
    "        kw_attitude_neg = ['incorrect', 'false', 'imprecise', 'invalid']\n",
    "        kw_all = kw_attitude_pos + kw_attitude_neg\n",
    "        kw_all.sort()\n",
    "        \n",
    "        middle_question = get_middle_question(self.compassion_scale_questionnaire)\n",
    "        kw = list(middle_question._dimensions['index'].keys())\n",
    "        kw.sort()\n",
    "\n",
    "        self.assertEqual(kw_all, kw)\n",
    "\n",
    "def suite():\n",
    "    suite = unittest.TestSuite()\n",
    "    suite.addTest(TestQuestionnairesMethods('test_asi_questionnaire'))\n",
    "    suite.addTest(TestQuestionnairesMethods('test_big5_questionnaire'))\n",
    "    suite.addTest(TestQuestionnairesMethods('test_sd3_questionnaire'))\n",
    "    suite.addTest(TestQuestionnairesMethods('test_soc_questionnaire'))\n",
    "    suite.addTest(TestQuestionnairesMethods('test_phq_questionnaire'))\n",
    "    suite.addTest(TestQuestionnairesMethods('test_gad_questionnaire'))\n",
    "    suite.addTest(TestQuestionnairesMethods('test_compassion_scale_questionnaire'))\n",
    "    suite.addTest(TestQuestionnairesMethods('test_asi_middle_question'))\n",
    "    suite.addTest(TestQuestionnairesMethods('test_big5_middle_question'))\n",
    "    suite.addTest(TestQuestionnairesMethods('test_sd3_middle_question'))\n",
    "    suite.addTest(TestQuestionnairesMethods('test_soc_middle_question'))\n",
    "    suite.addTest(TestQuestionnairesMethods('test_phq_middle_question'))\n",
    "    suite.addTest(TestQuestionnairesMethods('test_gad_middle_question'))\n",
    "    suite.addTest(TestQuestionnairesMethods('test_compassion_scale_middle_question'))\n",
    "    return suite"
   ]
  },
  {
   "cell_type": "code",
   "execution_count": 89,
   "id": "2d0215f1-5c39-4ddd-9849-7995dc26d70a",
   "metadata": {},
   "outputs": [
    {
     "name": "stderr",
     "output_type": "stream",
     "text": [
      "  9%|▉         | 2/22 [00:00<00:01, 14.91it/s]"
     ]
    },
    {
     "name": "stdout",
     "output_type": "stream",
     "text": [
      "(['index'], 'frequency') True unfiltered\n",
      "(['index'], 'frequency') True positiveonly\n",
      "1\n",
      "(['index'], 'frequency') True unfiltered\n",
      "(['index'], 'frequency') True positiveonly\n",
      "1\n",
      "(['index'], 'frequency') True unfiltered\n",
      "(['index'], 'frequency') True positiveonly\n",
      "2\n",
      "(['index'], 'frequency') True unfiltered\n",
      "(['index'], 'frequency') True positiveonly\n",
      "2\n",
      "(['index'], 'frequency') True unfiltered\n",
      "(['index'], 'frequency') True positiveonly\n",
      "3\n",
      "(['index'], 'frequency') True unfiltered\n",
      "(['index'], 'frequency') True positiveonly\n",
      "3\n",
      "(['index'], 'frequency') True unfiltered\n",
      "(['index'], 'frequency') True positiveonly\n",
      "4\n"
     ]
    },
    {
     "name": "stderr",
     "output_type": "stream",
     "text": [
      " 32%|███▏      | 7/22 [00:00<00:00, 19.34it/s]"
     ]
    },
    {
     "name": "stdout",
     "output_type": "stream",
     "text": [
      "(['index'], 'frequency') True unfiltered\n",
      "(['index'], 'frequency') True positiveonly\n",
      "4\n",
      "(['index'], 'frequency') True unfiltered\n",
      "(['index'], 'frequency') True positiveonly\n",
      "5\n",
      "(['index'], 'frequency') True unfiltered\n",
      "(['index'], 'frequency') True positiveonly\n",
      "5\n",
      "(['index'], 'frequency') True unfiltered\n",
      "(['index'], 'frequency') True positiveonly\n",
      "6\n",
      "(['index'], 'frequency') True unfiltered\n",
      "(['index'], 'frequency') True positiveonly\n",
      "6\n",
      "(['index'], 'frequency') True unfiltered\n",
      "(['index'], 'frequency') True positiveonly\n",
      "7\n",
      "(['index'], 'frequency') True unfiltered\n",
      "(['index'], 'frequency') True positiveonly\n",
      "7\n",
      "(['index'], 'frequency') True unfiltered\n",
      "(['index'], 'frequency') True positiveonly\n",
      "8\n",
      "(['index'], 'frequency') True unfiltered\n",
      "(['index'], 'frequency') True positiveonly\n",
      "8\n"
     ]
    },
    {
     "name": "stderr",
     "output_type": "stream",
     "text": [
      " 45%|████▌     | 10/22 [00:00<00:00, 20.18it/s]"
     ]
    },
    {
     "name": "stdout",
     "output_type": "stream",
     "text": [
      "(['index'], 'frequency') True unfiltered\n",
      "(['index'], 'frequency') True positiveonly\n",
      "9\n",
      "(['index'], 'frequency') True unfiltered\n",
      "(['index'], 'frequency') True positiveonly\n",
      "9\n",
      "(['index'], 'frequency') True unfiltered\n",
      "(['index'], 'frequency') True positiveonly\n",
      "10\n",
      "(['index'], 'frequency') True unfiltered\n",
      "(['index'], 'frequency') True positiveonly\n",
      "10\n",
      "(['index'], 'frequency') True unfiltered\n",
      "(['index'], 'frequency') True positiveonly\n",
      "11\n",
      "(['index'], 'frequency') True unfiltered\n",
      "(['index'], 'frequency') True positiveonly\n",
      "11\n",
      "(['index'], 'frequency') True unfiltered\n",
      "(['index'], 'frequency') True positiveonly\n",
      "12\n",
      "(['index'], 'frequency') True unfiltered\n",
      "(['index'], 'frequency') True positiveonly\n",
      "12\n",
      "(['index'], 'frequency') True unfiltered\n",
      "(['index'], 'frequency') True positiveonly\n",
      "13\n"
     ]
    },
    {
     "name": "stderr",
     "output_type": "stream",
     "text": [
      " 73%|███████▎  | 16/22 [00:00<00:00, 20.07it/s]"
     ]
    },
    {
     "name": "stdout",
     "output_type": "stream",
     "text": [
      "(['index'], 'frequency') True unfiltered\n",
      "(['index'], 'frequency') True positiveonly\n",
      "13\n",
      "(['index'], 'frequency') True unfiltered\n",
      "(['index'], 'frequency') True positiveonly\n",
      "14\n",
      "(['index'], 'frequency') True unfiltered\n",
      "(['index'], 'frequency') True positiveonly\n",
      "14\n",
      "(['index'], 'frequency') True unfiltered\n",
      "(['index'], 'frequency') True positiveonly\n",
      "15\n",
      "(['index'], 'frequency') True unfiltered\n",
      "(['index'], 'frequency') True positiveonly\n",
      "15\n",
      "(['index'], 'frequency') True unfiltered\n",
      "(['index'], 'frequency') True positiveonly\n",
      "16\n",
      "(['index'], 'frequency') True unfiltered\n",
      "(['index'], 'frequency') True positiveonly\n",
      "16\n",
      "(['index'], 'frequency') True unfiltered\n",
      "(['index'], 'frequency') True positiveonly\n",
      "17\n"
     ]
    },
    {
     "name": "stderr",
     "output_type": "stream",
     "text": [
      " 86%|████████▋ | 19/22 [00:00<00:00, 20.30it/s]"
     ]
    },
    {
     "name": "stdout",
     "output_type": "stream",
     "text": [
      "(['index'], 'frequency') True unfiltered\n",
      "(['index'], 'frequency') True positiveonly\n",
      "17\n",
      "(['index'], 'frequency') True unfiltered\n",
      "(['index'], 'frequency') True positiveonly\n",
      "18\n",
      "(['index'], 'frequency') True unfiltered\n",
      "(['index'], 'frequency') True positiveonly\n",
      "18\n",
      "(['index'], 'frequency') True unfiltered\n",
      "(['index'], 'frequency') True positiveonly\n",
      "19\n",
      "(['index'], 'frequency') True unfiltered\n",
      "(['index'], 'frequency') True positiveonly\n",
      "19\n",
      "(['index'], 'frequency') True unfiltered\n",
      "(['index'], 'frequency') True positiveonly\n",
      "20\n",
      "(['index'], 'frequency') True unfiltered\n",
      "(['index'], 'frequency') True positiveonly\n",
      "20\n",
      "(['index'], 'frequency') True unfiltered\n",
      "(['index'], 'frequency') True positiveonly\n",
      "21\n",
      "(['index'], 'frequency') True unfiltered\n",
      "(['index'], 'frequency') True positiveonly\n",
      "21\n"
     ]
    },
    {
     "name": "stderr",
     "output_type": "stream",
     "text": [
      "100%|██████████| 22/22 [00:01<00:00, 19.92it/s]\n",
      "."
     ]
    },
    {
     "name": "stdout",
     "output_type": "stream",
     "text": [
      "(['index'], 'frequency') True unfiltered\n",
      "(['index'], 'frequency') True positiveonly\n",
      "22\n",
      "(['index'], 'frequency') True unfiltered\n",
      "(['index'], 'frequency') True positiveonly\n",
      "22\n"
     ]
    },
    {
     "name": "stderr",
     "output_type": "stream",
     "text": [
      " 21%|██▏       | 3/14 [00:00<00:00, 23.45it/s]"
     ]
    },
    {
     "name": "stdout",
     "output_type": "stream",
     "text": [
      "(['emotion'], 'intensifier') True unfiltered\n",
      "(['emotion'], 'intensifier') True positiveonly\n",
      "1\n",
      "(['emotion'], 'intensifier') True unfiltered\n",
      "(['emotion'], 'intensifier') True positiveonly\n",
      "1\n",
      "(['emotion'], 'intensifier') True unfiltered\n",
      "(['emotion'], 'intensifier') True positiveonly\n",
      "2\n",
      "(['emotion'], 'intensifier') True unfiltered\n",
      "(['emotion'], 'intensifier') True positiveonly\n",
      "2\n",
      "(['emotion'], 'intensifier') True unfiltered\n",
      "(['emotion'], 'intensifier') True positiveonly\n",
      "3\n",
      "(['emotion'], 'intensifier') True unfiltered\n",
      "(['emotion'], 'intensifier') True positiveonly\n",
      "3\n",
      "(['emotion'], 'intensifier') True unfiltered\n",
      "(['emotion'], 'intensifier') True positiveonly\n",
      "4\n",
      "(['emotion'], 'intensifier') True unfiltered\n",
      "(['emotion'], 'intensifier') True positiveonly\n",
      "4\n",
      "(['emotion'], 'intensifier') True unfiltered\n",
      "(['emotion'], 'intensifier') True positiveonly\n",
      "5\n",
      "(['emotion'], 'intensifier') True unfiltered\n",
      "(['emotion'], 'intensifier') True positiveonly\n",
      "5\n"
     ]
    },
    {
     "name": "stderr",
     "output_type": "stream",
     "text": [
      " 43%|████▎     | 6/14 [00:00<00:00, 23.70it/s]"
     ]
    },
    {
     "name": "stdout",
     "output_type": "stream",
     "text": [
      "(['emotion'], 'intensifier') True unfiltered\n",
      "(['emotion'], 'intensifier') True positiveonly\n",
      "6\n",
      "(['emotion'], 'intensifier') True unfiltered\n",
      "(['emotion'], 'intensifier') True positiveonly\n",
      "6\n",
      "(['emotion'], 'intensifier') True unfiltered\n",
      "(['emotion'], 'intensifier') True positiveonly\n",
      "7\n",
      "(['emotion'], 'intensifier') True unfiltered\n",
      "(['emotion'], 'intensifier') True positiveonly\n",
      "7\n",
      "(['emotion'], 'intensifier') True unfiltered\n",
      "(['emotion'], 'intensifier') True positiveonly\n",
      "8\n",
      "(['emotion'], 'intensifier') True unfiltered\n",
      "(['emotion'], 'intensifier') True positiveonly\n",
      "8\n",
      "(['emotion'], 'intensifier') True unfiltered\n",
      "(['emotion'], 'intensifier') True positiveonly\n",
      "9\n"
     ]
    },
    {
     "name": "stderr",
     "output_type": "stream",
     "text": [
      " 64%|██████▍   | 9/14 [00:00<00:00, 23.35it/s]"
     ]
    },
    {
     "name": "stdout",
     "output_type": "stream",
     "text": [
      "(['emotion'], 'intensifier') True unfiltered\n",
      "(['emotion'], 'intensifier') True positiveonly\n",
      "9\n",
      "(['emotion'], 'intensifier') True unfiltered\n",
      "(['emotion'], 'intensifier') True positiveonly\n",
      "10\n",
      "(['emotion'], 'intensifier') True unfiltered\n",
      "(['emotion'], 'intensifier') True positiveonly\n",
      "10\n"
     ]
    },
    {
     "name": "stderr",
     "output_type": "stream",
     "text": [
      " 86%|████████▌ | 12/14 [00:00<00:00, 23.22it/s]"
     ]
    },
    {
     "name": "stdout",
     "output_type": "stream",
     "text": [
      "(['emotion'], 'intensifier') True unfiltered\n",
      "(['emotion'], 'intensifier') True positiveonly\n",
      "11\n",
      "(['emotion'], 'intensifier') True unfiltered\n",
      "(['emotion'], 'intensifier') True positiveonly\n",
      "11\n",
      "(['emotion'], 'intensifier') True unfiltered\n",
      "(['emotion'], 'intensifier') True positiveonly\n",
      "12\n",
      "(['emotion'], 'intensifier') True unfiltered\n",
      "(['emotion'], 'intensifier') True positiveonly\n",
      "12\n",
      "(['emotion'], 'intensifier') True unfiltered\n",
      "(['emotion'], 'intensifier') True positiveonly\n",
      "13\n",
      "(['emotion'], 'intensifier') True unfiltered\n",
      "(['emotion'], 'intensifier') True positiveonly\n",
      "13\n",
      "(['emotion'], 'intensifier') True unfiltered\n",
      "(['emotion'], 'intensifier') True positiveonly\n",
      "14\n"
     ]
    },
    {
     "name": "stderr",
     "output_type": "stream",
     "text": [
      "100%|██████████| 14/14 [00:00<00:00, 23.31it/s]\n",
      "."
     ]
    },
    {
     "name": "stdout",
     "output_type": "stream",
     "text": [
      "(['emotion'], 'intensifier') True unfiltered\n",
      "(['emotion'], 'intensifier') True positiveonly\n",
      "14\n"
     ]
    },
    {
     "name": "stderr",
     "output_type": "stream",
     "text": [
      "  0%|          | 0/27 [00:00<?, ?it/s]"
     ]
    },
    {
     "name": "stdout",
     "output_type": "stream",
     "text": [
      "(['emotion'], 'intensifier') True unfiltered\n",
      "(['emotion'], 'intensifier') True positiveonly\n",
      "1\n",
      "(['emotion'], 'intensifier') True unfiltered\n",
      "(['emotion'], 'intensifier') True positiveonly\n",
      "1\n"
     ]
    },
    {
     "name": "stderr",
     "output_type": "stream",
     "text": [
      " 11%|█         | 3/27 [00:00<00:01, 22.09it/s]"
     ]
    },
    {
     "name": "stdout",
     "output_type": "stream",
     "text": [
      "(['emotion'], 'intensifier') True unfiltered\n",
      "(['emotion'], 'intensifier') True positiveonly\n",
      "4\n",
      "(['emotion'], 'intensifier') True unfiltered\n",
      "(['emotion'], 'intensifier') True positiveonly\n",
      "4\n",
      "(['emotion'], 'intensifier') True unfiltered\n",
      "(['emotion'], 'intensifier') True positiveonly\n",
      "7\n",
      "(['emotion'], 'intensifier') True unfiltered\n",
      "(['emotion'], 'intensifier') True positiveonly\n",
      "7\n",
      "(['emotion'], 'intensifier') True unfiltered\n",
      "(['emotion'], 'intensifier') True positiveonly\n",
      "10\n",
      "(['emotion'], 'intensifier') True unfiltered\n",
      "(['emotion'], 'intensifier') True positiveonly\n",
      "10\n",
      "(['emotion'], 'intensifier') True unfiltered\n",
      "(['emotion'], 'intensifier') True positiveonly\n",
      "13\n",
      "(['emotion'], 'intensifier') True unfiltered\n",
      "(['emotion'], 'intensifier') True positiveonly\n",
      "13\n",
      "(['emotion'], 'intensifier') True unfiltered\n",
      "(['emotion'], 'intensifier') True positiveonly\n",
      "16\n"
     ]
    },
    {
     "name": "stderr",
     "output_type": "stream",
     "text": [
      " 22%|██▏       | 6/27 [00:00<00:00, 21.19it/s]"
     ]
    },
    {
     "name": "stdout",
     "output_type": "stream",
     "text": [
      "(['emotion'], 'intensifier') True unfiltered\n",
      "(['emotion'], 'intensifier') True positiveonly\n",
      "16\n",
      "(['emotion'], 'intensifier') True unfiltered\n",
      "(['emotion'], 'intensifier') True positiveonly\n",
      "19\n",
      "(['emotion'], 'intensifier') True unfiltered\n",
      "(['emotion'], 'intensifier') True positiveonly\n",
      "19\n",
      "(['emotion'], 'intensifier') True unfiltered\n",
      "(['emotion'], 'intensifier') True positiveonly\n",
      "22\n",
      "(['emotion'], 'intensifier') True unfiltered\n",
      "(['emotion'], 'intensifier') True positiveonly\n",
      "22\n",
      "(['emotion'], 'intensifier') True unfiltered\n",
      "(['emotion'], 'intensifier') True positiveonly\n",
      "25\n",
      "(['emotion'], 'intensifier') True unfiltered\n",
      "(['emotion'], 'intensifier') True positiveonly\n",
      "25\n"
     ]
    },
    {
     "name": "stderr",
     "output_type": "stream",
     "text": [
      " 33%|███▎      | 9/27 [00:00<00:00, 22.26it/s]"
     ]
    },
    {
     "name": "stdout",
     "output_type": "stream",
     "text": [
      "(['emotion'], 'intensifier') True unfiltered\n",
      "(['emotion'], 'intensifier') True positiveonly\n",
      "2\n",
      "(['emotion'], 'intensifier') True unfiltered\n",
      "(['emotion'], 'intensifier') True positiveonly\n",
      "2\n",
      "(['emotion'], 'intensifier') True unfiltered\n",
      "(['emotion'], 'intensifier') True positiveonly\n",
      "5\n"
     ]
    },
    {
     "name": "stderr",
     "output_type": "stream",
     "text": [
      " 44%|████▍     | 12/27 [00:00<00:00, 22.14it/s]"
     ]
    },
    {
     "name": "stdout",
     "output_type": "stream",
     "text": [
      "(['emotion'], 'intensifier') True unfiltered\n",
      "(['emotion'], 'intensifier') True positiveonly\n",
      "5\n",
      "(['emotion'], 'intensifier') True unfiltered\n",
      "(['emotion'], 'intensifier') True positiveonly\n",
      "8\n",
      "(['emotion'], 'intensifier') True unfiltered\n",
      "(['emotion'], 'intensifier') True positiveonly\n",
      "8\n",
      "(['emotion'], 'intensifier') True unfiltered\n",
      "(['emotion'], 'intensifier') True positiveonly\n",
      "11\n",
      "(['emotion'], 'intensifier') True unfiltered\n",
      "(['emotion'], 'intensifier') True positiveonly\n",
      "11\n",
      "(['emotion'], 'intensifier') True unfiltered\n",
      "(['emotion'], 'intensifier') True positiveonly\n",
      "14\n",
      "(['emotion'], 'intensifier') True unfiltered\n",
      "(['emotion'], 'intensifier') True positiveonly\n",
      "14\n",
      "(['emotion'], 'intensifier') True unfiltered\n",
      "(['emotion'], 'intensifier') True positiveonly\n",
      "17\n",
      "(['emotion'], 'intensifier') True unfiltered\n",
      "(['emotion'], 'intensifier') True positiveonly\n",
      "17\n"
     ]
    },
    {
     "name": "stderr",
     "output_type": "stream",
     "text": [
      " 56%|█████▌    | 15/27 [00:00<00:00, 20.38it/s]"
     ]
    },
    {
     "name": "stdout",
     "output_type": "stream",
     "text": [
      "(['emotion'], 'intensifier') True unfiltered\n",
      "(['emotion'], 'intensifier') True positiveonly\n",
      "20\n",
      "(['emotion'], 'intensifier') True unfiltered\n",
      "(['emotion'], 'intensifier') True positiveonly\n",
      "20\n",
      "(['emotion'], 'intensifier') True unfiltered\n",
      "(['emotion'], 'intensifier') True positiveonly\n",
      "23\n",
      "(['emotion'], 'intensifier') True unfiltered\n",
      "(['emotion'], 'intensifier') True positiveonly\n",
      "23\n",
      "(['emotion'], 'intensifier') True unfiltered\n",
      "(['emotion'], 'intensifier') True positiveonly\n",
      "26\n",
      "(['emotion'], 'intensifier') True unfiltered\n",
      "(['emotion'], 'intensifier') True positiveonly\n",
      "26\n"
     ]
    },
    {
     "name": "stderr",
     "output_type": "stream",
     "text": [
      " 67%|██████▋   | 18/27 [00:00<00:00, 21.19it/s]"
     ]
    },
    {
     "name": "stdout",
     "output_type": "stream",
     "text": [
      "(['emotion'], 'intensifier') True unfiltered\n",
      "(['emotion'], 'intensifier') True positiveonly\n",
      "3\n",
      "(['emotion'], 'intensifier') True unfiltered\n",
      "(['emotion'], 'intensifier') True positiveonly\n",
      "3\n",
      "(['emotion'], 'intensifier') True unfiltered\n",
      "(['emotion'], 'intensifier') True positiveonly\n",
      "6\n",
      "(['emotion'], 'intensifier') True unfiltered\n",
      "(['emotion'], 'intensifier') True positiveonly\n",
      "6\n"
     ]
    },
    {
     "name": "stderr",
     "output_type": "stream",
     "text": [
      " 78%|███████▊  | 21/27 [00:00<00:00, 21.60it/s]"
     ]
    },
    {
     "name": "stdout",
     "output_type": "stream",
     "text": [
      "(['emotion'], 'intensifier') True unfiltered\n",
      "(['emotion'], 'intensifier') True positiveonly\n",
      "9\n",
      "(['emotion'], 'intensifier') True unfiltered\n",
      "(['emotion'], 'intensifier') True positiveonly\n",
      "9\n",
      "(['emotion'], 'intensifier') True unfiltered\n",
      "(['emotion'], 'intensifier') True positiveonly\n",
      "12\n",
      "(['emotion'], 'intensifier') True unfiltered\n",
      "(['emotion'], 'intensifier') True positiveonly\n",
      "12\n",
      "(['emotion'], 'intensifier') True unfiltered\n",
      "(['emotion'], 'intensifier') True positiveonly\n",
      "15\n",
      "(['emotion'], 'intensifier') True unfiltered\n",
      "(['emotion'], 'intensifier') True positiveonly\n",
      "15\n"
     ]
    },
    {
     "name": "stderr",
     "output_type": "stream",
     "text": [
      " 89%|████████▉ | 24/27 [00:01<00:00, 22.47it/s]"
     ]
    },
    {
     "name": "stdout",
     "output_type": "stream",
     "text": [
      "(['emotion'], 'intensifier') True unfiltered\n",
      "(['emotion'], 'intensifier') True positiveonly\n",
      "18\n",
      "(['emotion'], 'intensifier') True unfiltered\n",
      "(['emotion'], 'intensifier') True positiveonly\n",
      "18\n",
      "(['emotion'], 'intensifier') True unfiltered\n",
      "(['emotion'], 'intensifier') True positiveonly\n",
      "21\n",
      "(['emotion'], 'intensifier') True unfiltered\n",
      "(['emotion'], 'intensifier') True positiveonly\n",
      "21\n"
     ]
    },
    {
     "name": "stderr",
     "output_type": "stream",
     "text": [
      "100%|██████████| 27/27 [00:01<00:00, 22.11it/s]\n",
      "."
     ]
    },
    {
     "name": "stdout",
     "output_type": "stream",
     "text": [
      "(['emotion'], 'intensifier') True unfiltered\n",
      "(['emotion'], 'intensifier') True positiveonly\n",
      "24\n",
      "(['emotion'], 'intensifier') True unfiltered\n",
      "(['emotion'], 'intensifier') True positiveonly\n",
      "24\n",
      "(['emotion'], 'intensifier') True unfiltered\n",
      "(['emotion'], 'intensifier') True positiveonly\n",
      "27\n",
      "(['emotion'], 'intensifier') True unfiltered\n",
      "(['emotion'], 'intensifier') True positiveonly\n",
      "27\n"
     ]
    },
    {
     "name": "stderr",
     "output_type": "stream",
     "text": [
      "  0%|          | 0/12 [00:00<?, ?it/s]"
     ]
    },
    {
     "name": "stdout",
     "output_type": "stream",
     "text": [
      "(['index'], 'frequency') True unfiltered\n",
      "(['index'], 'frequency') True positiveonly\n",
      "4\n",
      "(['index'], 'frequency') True unfiltered\n",
      "(['index'], 'frequency') True positiveonly\n",
      "4\n",
      "(['index'], 'frequency') True unfiltered\n",
      "(['index'], 'frequency') True positiveonly\n",
      "5\n",
      "(['index'], 'frequency') True unfiltered\n",
      "(['index'], 'frequency') True positiveonly\n",
      "5\n",
      "(['index'], 'frequency') True unfiltered\n",
      "(['index'], 'frequency') True positiveonly\n",
      "6\n",
      "(['index'], 'frequency') True unfiltered\n",
      "(['index'], 'frequency') True positiveonly\n",
      "6\n"
     ]
    },
    {
     "name": "stderr",
     "output_type": "stream",
     "text": [
      " 25%|██▌       | 3/12 [00:00<00:00, 23.06it/s]"
     ]
    },
    {
     "name": "stdout",
     "output_type": "stream",
     "text": [
      "(['index'], 'frequency') True unfiltered\n",
      "(['index'], 'frequency') True positiveonly\n",
      "8\n",
      "(['index'], 'frequency') True unfiltered\n",
      "(['index'], 'frequency') True positiveonly\n",
      "8\n",
      "(['index'], 'frequency') True unfiltered\n",
      "(['index'], 'frequency') True positiveonly\n",
      "12\n",
      "(['index'], 'frequency') True unfiltered\n",
      "(['index'], 'frequency') True positiveonly\n",
      "12\n",
      "(['index'], 'frequency') True unfiltered\n",
      "(['index'], 'frequency') True positiveonly\n",
      "16\n",
      "(['index'], 'frequency') True unfiltered\n",
      "(['index'], 'frequency') True positiveonly\n",
      "16\n"
     ]
    },
    {
     "name": "stderr",
     "output_type": "stream",
     "text": [
      " 50%|█████     | 6/12 [00:00<00:00, 21.85it/s]"
     ]
    },
    {
     "name": "stdout",
     "output_type": "stream",
     "text": [
      "(['index'], 'frequency') True unfiltered\n",
      "(['index'], 'frequency') True positiveonly\n",
      "19\n",
      "(['index'], 'frequency') True unfiltered\n",
      "(['index'], 'frequency') True positiveonly\n",
      "19\n",
      "(['index'], 'frequency') True unfiltered\n",
      "(['index'], 'frequency') True positiveonly\n",
      "21\n"
     ]
    },
    {
     "name": "stderr",
     "output_type": "stream",
     "text": [
      " 75%|███████▌  | 9/12 [00:00<00:00, 22.65it/s]"
     ]
    },
    {
     "name": "stdout",
     "output_type": "stream",
     "text": [
      "(['index'], 'frequency') True unfiltered\n",
      "(['index'], 'frequency') True positiveonly\n",
      "21\n",
      "(['index'], 'frequency') True unfiltered\n",
      "(['index'], 'frequency') True positiveonly\n",
      "25\n",
      "(['index'], 'frequency') True unfiltered\n",
      "(['index'], 'frequency') True positiveonly\n",
      "25\n",
      "(['index'], 'frequency') True unfiltered\n",
      "(['index'], 'frequency') True positiveonly\n",
      "26\n",
      "(['index'], 'frequency') True unfiltered\n",
      "(['index'], 'frequency') True positiveonly\n",
      "26\n",
      "(['index'], 'frequency') True unfiltered\n",
      "(['index'], 'frequency') True positiveonly\n",
      "28\n",
      "(['index'], 'frequency') True unfiltered\n",
      "(['index'], 'frequency') True positiveonly\n",
      "28\n"
     ]
    },
    {
     "name": "stderr",
     "output_type": "stream",
     "text": [
      "100%|██████████| 12/12 [00:00<00:00, 22.00it/s]"
     ]
    },
    {
     "name": "stdout",
     "output_type": "stream",
     "text": [
      "(['index'], 'frequency') True unfiltered\n",
      "(['index'], 'frequency') True positiveonly\n",
      "29\n",
      "(['index'], 'frequency') True unfiltered\n",
      "(['index'], 'frequency') True positiveonly\n",
      "29\n"
     ]
    },
    {
     "name": "stderr",
     "output_type": "stream",
     "text": [
      "\n",
      "  0%|          | 0/9 [00:00<?, ?it/s]"
     ]
    },
    {
     "name": "stdout",
     "output_type": "stream",
     "text": [
      "(['emotion'], 'intensifier') True unfiltered\n",
      "(['emotion'], 'intensifier') True positiveonly\n",
      "1\n",
      "(['emotion'], 'intensifier') True unfiltered\n",
      "(['emotion'], 'intensifier') True positiveonly\n",
      "1\n",
      "(['emotion'], 'intensifier') True unfiltered\n",
      "(['emotion'], 'intensifier') True positiveonly\n",
      "2\n",
      "(['emotion'], 'intensifier') True unfiltered\n",
      "(['emotion'], 'intensifier') True positiveonly\n",
      "2\n"
     ]
    },
    {
     "name": "stderr",
     "output_type": "stream",
     "text": [
      " 33%|███▎      | 3/9 [00:00<00:00, 21.87it/s]"
     ]
    },
    {
     "name": "stdout",
     "output_type": "stream",
     "text": [
      "(['emotion'], 'intensifier') True unfiltered\n",
      "(['emotion'], 'intensifier') True positiveonly\n",
      "3\n",
      "(['emotion'], 'intensifier') True unfiltered\n",
      "(['emotion'], 'intensifier') True positiveonly\n",
      "3\n",
      "(['emotion'], 'intensifier') True unfiltered\n",
      "(['emotion'], 'intensifier') True positiveonly\n",
      "4\n",
      "(['emotion'], 'intensifier') True unfiltered\n",
      "(['emotion'], 'intensifier') True positiveonly\n",
      "4\n",
      "(['emotion'], 'intensifier') True unfiltered\n",
      "(['emotion'], 'intensifier') True positiveonly\n",
      "5\n"
     ]
    },
    {
     "name": "stderr",
     "output_type": "stream",
     "text": [
      " 67%|██████▋   | 6/9 [00:00<00:00, 20.99it/s]"
     ]
    },
    {
     "name": "stdout",
     "output_type": "stream",
     "text": [
      "(['emotion'], 'intensifier') True unfiltered\n",
      "(['emotion'], 'intensifier') True positiveonly\n",
      "5\n",
      "(['emotion'], 'intensifier') True unfiltered\n",
      "(['emotion'], 'intensifier') True positiveonly\n",
      "6\n",
      "(['emotion'], 'intensifier') True unfiltered\n",
      "(['emotion'], 'intensifier') True positiveonly\n",
      "6\n",
      "(['emotion'], 'intensifier') True unfiltered\n",
      "(['emotion'], 'intensifier') True positiveonly\n",
      "7\n",
      "(['emotion'], 'intensifier') True unfiltered\n",
      "(['emotion'], 'intensifier') True positiveonly\n",
      "7\n",
      "(['emotion'], 'intensifier') True unfiltered\n",
      "(['emotion'], 'intensifier') True positiveonly\n",
      "8\n",
      "(['emotion'], 'intensifier') True unfiltered\n",
      "(['emotion'], 'intensifier') True positiveonly\n",
      "8\n",
      "(['emotion'], 'intensifier') True unfiltered\n",
      "(['emotion'], 'intensifier') True positiveonly\n",
      "9\n",
      "(['emotion'], 'intensifier') True unfiltered\n",
      "(['emotion'], 'intensifier') True positiveonly\n",
      "9\n"
     ]
    },
    {
     "name": "stderr",
     "output_type": "stream",
     "text": [
      "100%|██████████| 9/9 [00:00<00:00, 21.32it/s]\n",
      "  0%|          | 0/7 [00:00<?, ?it/s]"
     ]
    },
    {
     "name": "stdout",
     "output_type": "stream",
     "text": [
      "(['emotion'], 'intensifier') True unfiltered\n",
      "(['emotion'], 'intensifier') True positiveonly\n",
      "1\n",
      "(['emotion'], 'intensifier') True unfiltered\n",
      "(['emotion'], 'intensifier') True positiveonly\n",
      "1\n",
      "(['emotion'], 'intensifier') True unfiltered\n",
      "(['emotion'], 'intensifier') True positiveonly\n",
      "2\n",
      "(['emotion'], 'intensifier') True unfiltered\n",
      "(['emotion'], 'intensifier') True positiveonly\n",
      "2\n"
     ]
    },
    {
     "name": "stderr",
     "output_type": "stream",
     "text": [
      " 43%|████▎     | 3/7 [00:00<00:00, 22.24it/s]"
     ]
    },
    {
     "name": "stdout",
     "output_type": "stream",
     "text": [
      "(['emotion'], 'intensifier') True unfiltered\n",
      "(['emotion'], 'intensifier') True positiveonly\n",
      "3\n",
      "(['emotion'], 'intensifier') True unfiltered\n",
      "(['emotion'], 'intensifier') True positiveonly\n",
      "3\n",
      "(['emotion'], 'intensifier') True unfiltered\n",
      "(['emotion'], 'intensifier') True positiveonly\n",
      "4\n",
      "(['emotion'], 'intensifier') True unfiltered\n",
      "(['emotion'], 'intensifier') True positiveonly\n",
      "4\n",
      "(['emotion'], 'intensifier') True unfiltered\n",
      "(['emotion'], 'intensifier') True positiveonly\n",
      "5\n",
      "(['emotion'], 'intensifier') True unfiltered\n",
      "(['emotion'], 'intensifier') True positiveonly\n",
      "5\n"
     ]
    },
    {
     "name": "stderr",
     "output_type": "stream",
     "text": [
      " 86%|████████▌ | 6/7 [00:00<00:00, 21.95it/s]"
     ]
    },
    {
     "name": "stdout",
     "output_type": "stream",
     "text": [
      "(['emotion'], 'intensifier') True unfiltered\n",
      "(['emotion'], 'intensifier') True positiveonly\n",
      "6\n",
      "(['emotion'], 'intensifier') True unfiltered\n",
      "(['emotion'], 'intensifier') True positiveonly\n",
      "6\n",
      "(['emotion'], 'intensifier') True unfiltered\n",
      "(['emotion'], 'intensifier') True positiveonly\n",
      "7\n"
     ]
    },
    {
     "name": "stderr",
     "output_type": "stream",
     "text": [
      "100%|██████████| 7/7 [00:00<00:00, 21.91it/s]\n",
      "."
     ]
    },
    {
     "name": "stdout",
     "output_type": "stream",
     "text": [
      "(['emotion'], 'intensifier') True unfiltered\n",
      "(['emotion'], 'intensifier') True positiveonly\n",
      "7\n"
     ]
    },
    {
     "name": "stderr",
     "output_type": "stream",
     "text": [
      "  0%|          | 0/24 [00:00<?, ?it/s]"
     ]
    },
    {
     "name": "stdout",
     "output_type": "stream",
     "text": [
      "(['index'], 'frequency') True unfiltered\n",
      "(['index'], 'frequency') True positiveonly\n",
      "1\n",
      "(['index'], 'frequency') True unfiltered\n",
      "(['index'], 'frequency') True positiveonly\n",
      "1\n"
     ]
    },
    {
     "name": "stderr",
     "output_type": "stream",
     "text": [
      "  8%|▊         | 2/24 [00:00<00:01, 19.87it/s]"
     ]
    },
    {
     "name": "stdout",
     "output_type": "stream",
     "text": [
      "(['index'], 'frequency') True unfiltered\n",
      "(['index'], 'frequency') True positiveonly\n",
      "2\n",
      "(['index'], 'frequency') True unfiltered\n",
      "(['index'], 'frequency') True positiveonly\n",
      "2\n",
      "(['index'], 'frequency') True unfiltered\n",
      "(['index'], 'frequency') True positiveonly\n",
      "3\n",
      "(['index'], 'frequency') True unfiltered\n",
      "(['index'], 'frequency') True positiveonly\n",
      "3\n",
      "(['index'], 'frequency') True unfiltered\n",
      "(['index'], 'frequency') True positiveonly\n",
      "4\n",
      "(['index'], 'frequency') True unfiltered\n",
      "(['index'], 'frequency') True positiveonly\n",
      "4\n",
      "(['index'], 'frequency') True unfiltered\n",
      "(['index'], 'frequency') True positiveonly\n",
      "5\n"
     ]
    },
    {
     "name": "stderr",
     "output_type": "stream",
     "text": [
      " 21%|██        | 5/24 [00:00<00:00, 21.32it/s]"
     ]
    },
    {
     "name": "stdout",
     "output_type": "stream",
     "text": [
      "(['index'], 'frequency') True unfiltered\n",
      "(['index'], 'frequency') True positiveonly\n",
      "5\n",
      "(['index'], 'frequency') True unfiltered\n",
      "(['index'], 'frequency') True positiveonly\n",
      "6\n",
      "(['index'], 'frequency') True unfiltered\n",
      "(['index'], 'frequency') True positiveonly\n",
      "6\n",
      "(['index'], 'frequency') True unfiltered\n",
      "(['index'], 'frequency') True positiveonly\n",
      "7\n"
     ]
    },
    {
     "name": "stderr",
     "output_type": "stream",
     "text": [
      " 33%|███▎      | 8/24 [00:00<00:00, 20.57it/s]"
     ]
    },
    {
     "name": "stdout",
     "output_type": "stream",
     "text": [
      "(['index'], 'frequency') True unfiltered\n",
      "(['index'], 'frequency') True positiveonly\n",
      "7\n",
      "(['index'], 'frequency') True unfiltered\n",
      "(['index'], 'frequency') True positiveonly\n",
      "8\n",
      "(['index'], 'frequency') True unfiltered\n",
      "(['index'], 'frequency') True positiveonly\n",
      "8\n",
      "(['index'], 'frequency') True unfiltered\n",
      "(['index'], 'frequency') True positiveonly\n",
      "9\n",
      "(['index'], 'frequency') True unfiltered\n",
      "(['index'], 'frequency') True positiveonly\n",
      "9\n",
      "(['index'], 'frequency') True unfiltered\n",
      "(['index'], 'frequency') True positiveonly\n",
      "10\n",
      "(['index'], 'frequency') True unfiltered\n",
      "(['index'], 'frequency') True positiveonly\n",
      "10\n",
      "(['index'], 'frequency') True unfiltered\n",
      "(['index'], 'frequency') True positiveonly\n",
      "11\n",
      "(['index'], 'frequency') True unfiltered\n",
      "(['index'], 'frequency') True positiveonly\n",
      "11\n"
     ]
    },
    {
     "name": "stderr",
     "output_type": "stream",
     "text": [
      " 46%|████▌     | 11/24 [00:00<00:00, 20.54it/s]"
     ]
    },
    {
     "name": "stdout",
     "output_type": "stream",
     "text": [
      "(['index'], 'frequency') True unfiltered\n",
      "(['index'], 'frequency') True positiveonly\n",
      "12\n",
      "(['index'], 'frequency') True unfiltered\n",
      "(['index'], 'frequency') True positiveonly\n",
      "12\n",
      "(['index'], 'frequency') True unfiltered\n",
      "(['index'], 'frequency') True positiveonly\n",
      "13\n",
      "(['index'], 'frequency') True unfiltered\n",
      "(['index'], 'frequency') True positiveonly\n",
      "13\n",
      "(['index'], 'frequency') True unfiltered\n",
      "(['index'], 'frequency') True positiveonly\n",
      "14\n"
     ]
    },
    {
     "name": "stderr",
     "output_type": "stream",
     "text": [
      " 58%|█████▊    | 14/24 [00:00<00:00, 20.30it/s]"
     ]
    },
    {
     "name": "stdout",
     "output_type": "stream",
     "text": [
      "(['index'], 'frequency') True unfiltered\n",
      "(['index'], 'frequency') True positiveonly\n",
      "14\n",
      "(['index'], 'frequency') True unfiltered\n",
      "(['index'], 'frequency') True positiveonly\n",
      "15\n",
      "(['index'], 'frequency') True unfiltered\n",
      "(['index'], 'frequency') True positiveonly\n",
      "15\n",
      "(['index'], 'frequency') True unfiltered\n",
      "(['index'], 'frequency') True positiveonly\n",
      "16\n",
      "(['index'], 'frequency') True unfiltered\n",
      "(['index'], 'frequency') True positiveonly\n",
      "16\n",
      "(['index'], 'frequency') True unfiltered\n",
      "(['index'], 'frequency') True positiveonly\n",
      "17\n",
      "(['index'], 'frequency') True unfiltered\n",
      "(['index'], 'frequency') True positiveonly\n",
      "17\n"
     ]
    },
    {
     "name": "stderr",
     "output_type": "stream",
     "text": [
      " 71%|███████   | 17/24 [00:00<00:00, 19.50it/s]"
     ]
    },
    {
     "name": "stdout",
     "output_type": "stream",
     "text": [
      "(['index'], 'frequency') True unfiltered\n",
      "(['index'], 'frequency') True positiveonly\n",
      "18\n",
      "(['index'], 'frequency') True unfiltered\n",
      "(['index'], 'frequency') True positiveonly\n",
      "18\n",
      "(['index'], 'frequency') True unfiltered\n",
      "(['index'], 'frequency') True positiveonly\n",
      "19\n",
      "(['index'], 'frequency') True unfiltered\n",
      "(['index'], 'frequency') True positiveonly\n",
      "19\n"
     ]
    },
    {
     "name": "stderr",
     "output_type": "stream",
     "text": [
      " 83%|████████▎ | 20/24 [00:01<00:00, 19.26it/s]"
     ]
    },
    {
     "name": "stdout",
     "output_type": "stream",
     "text": [
      "(['index'], 'frequency') True unfiltered\n",
      "(['index'], 'frequency') True positiveonly\n",
      "20\n",
      "(['index'], 'frequency') True unfiltered\n",
      "(['index'], 'frequency') True positiveonly\n",
      "20\n",
      "(['index'], 'frequency') True unfiltered\n",
      "(['index'], 'frequency') True positiveonly\n",
      "21\n",
      "(['index'], 'frequency') True unfiltered\n",
      "(['index'], 'frequency') True positiveonly\n",
      "21\n",
      "(['index'], 'frequency') True unfiltered\n",
      "(['index'], 'frequency') True positiveonly\n",
      "22\n",
      "(['index'], 'frequency') True unfiltered\n",
      "(['index'], 'frequency') True positiveonly\n",
      "22\n"
     ]
    },
    {
     "name": "stderr",
     "output_type": "stream",
     "text": [
      " 92%|█████████▏| 22/24 [00:01<00:00, 19.24it/s]"
     ]
    },
    {
     "name": "stdout",
     "output_type": "stream",
     "text": [
      "(['index'], 'frequency') True unfiltered\n",
      "(['index'], 'frequency') True positiveonly\n",
      "23\n",
      "(['index'], 'frequency') True unfiltered\n",
      "(['index'], 'frequency') True positiveonly\n",
      "23\n"
     ]
    },
    {
     "name": "stderr",
     "output_type": "stream",
     "text": [
      "100%|██████████| 24/24 [00:01<00:00, 19.66it/s]\n",
      "..."
     ]
    },
    {
     "name": "stdout",
     "output_type": "stream",
     "text": [
      "(['index'], 'frequency') True unfiltered\n",
      "(['index'], 'frequency') True positiveonly\n",
      "24\n",
      "(['index'], 'frequency') True unfiltered\n",
      "(['index'], 'frequency') True positiveonly\n",
      "24\n",
      "(['index'], 'frequency') True unfiltered\n",
      "(['index'], 'frequency') True positiveonly\n",
      "12\n",
      "(['emotion'], 'intensifier') True unfiltered\n",
      "(['emotion'], 'intensifier') True positiveonly\n",
      "8\n",
      "(['emotion'], 'intensifier') True unfiltered\n",
      "(['emotion'], 'intensifier') True positiveonly\n",
      "14\n"
     ]
    },
    {
     "name": "stderr",
     "output_type": "stream",
     "text": [
      "."
     ]
    },
    {
     "name": "stdout",
     "output_type": "stream",
     "text": [
      "(['index'], 'frequency')"
     ]
    },
    {
     "name": "stderr",
     "output_type": "stream",
     "text": [
      "."
     ]
    },
    {
     "name": "stdout",
     "output_type": "stream",
     "text": [
      " True unfiltered\n",
      "(['index'], 'frequency') True positiveonly\n",
      "19\n"
     ]
    },
    {
     "name": "stderr",
     "output_type": "stream",
     "text": [
      ".."
     ]
    },
    {
     "name": "stdout",
     "output_type": "stream",
     "text": [
      "(['emotion'], 'intensifier') True unfiltered\n",
      "(['emotion'], 'intensifier') True positiveonly\n",
      "5\n",
      "(['emotion'], 'intensifier') True unfiltered\n",
      "(['emotion'], 'intensifier') True positiveonly\n",
      "4\n",
      "(['index'], 'frequency') True unfiltered\n",
      "(['index'], 'frequency') True positiveonly\n",
      "13\n"
     ]
    },
    {
     "name": "stderr",
     "output_type": "stream",
     "text": [
      ".\n",
      "----------------------------------------------------------------------\n",
      "Ran 14 tests in 5.611s\n",
      "\n",
      "OK\n"
     ]
    },
    {
     "data": {
      "text/plain": [
       "<unittest.runner.TextTestResult run=14 errors=0 failures=0>"
      ]
     },
     "execution_count": 89,
     "metadata": {},
     "output_type": "execute_result"
    }
   ],
   "source": [
    "runner = unittest.TextTestRunner()\n",
    "runner.run(suite())"
   ]
  },
  {
   "cell_type": "code",
   "execution_count": null,
   "id": "791e3cb4",
   "metadata": {
    "ExecuteTime": {
     "end_time": "2024-07-09T12:30:08.601451Z",
     "start_time": "2024-07-09T12:30:08.593597Z"
    }
   },
   "outputs": [],
   "source": [
    "def split_question(Q, index, scales, softmax, filters):\n",
    "  result = []\n",
    "  for s in scales:\n",
    "    q = QCACHE(Q(index=index, scale=s))\n",
    "    for sf in softmax:\n",
    "      for f in filters:\n",
    "        if sf:            \n",
    "            qsf = QSOFTMAX(q,dim=[index[0], s])\n",
    "            qsf_f = QFILTER(qsf,filters[f],filtername=f)\n",
    "            print((index, s),sf,f)\n",
    "            result.append(qsf_f)\n",
    "        else:\n",
    "            qsf = QPASS(q,descupdate={'softmax':''})\n",
    "            qsf_f = QFILTER(qsf,filters[f],filtername=f)\n",
    "            print(s,sf,f)\n",
    "            result.append(qsf_f)\n",
    "  return result\n",
    "\n",
    "def dict_pos_neg(pos, neg, w):\n",
    "  return dict(dict_same_weight(1.0*w/len(pos),pos), **dict_same_weight(-1.0*w/len(neg),neg))\n",
    "\n",
    "def print_permutations(q):\n",
    "    W = q._pdf['W']\n",
    "    print(q._descriptor)\n",
    "    for i, (kmap, w) in enumerate(zip(q._keywords_map, W)):\n",
    "        context = q._context_template.format_map(kmap)\n",
    "        answer = q._answer_template.format_map(kmap)\n",
    "        print(f'{i}.',context ,'->', answer, w)\n",
    "\n",
    "\n",
    "frequency_weights:SCALE = {\n",
    "    'never':-4,\n",
    "    'very rarely':-3,\n",
    "    'seldom':-2,\n",
    "    'rarely':-2,\n",
    "    'frequently':2,\n",
    "    'often':2,\n",
    "    'very frequently':3,\n",
    "    'always':4,    \n",
    "}\n",
    "    \n",
    "binary_frequency_weights = {k: 1 if v > 0 else -1 for k, v in frequency_weights.items()}\n",
    "rbinary_frequency_weights = {k: -1 if v > 0 else 1 for k, v in frequency_weights.items()}\n",
    "frequency_pos = [k for k, v in frequency_weights.items() if v > 0]\n",
    "frequency_neg = [k for k, v in frequency_weights.items() if v < 0]"
   ]
  },
  {
   "cell_type": "code",
   "execution_count": null,
   "id": "1f0b7702",
   "metadata": {
    "ExecuteTime": {
     "end_time": "2024-07-09T12:29:09.422358Z",
     "start_time": "2024-07-09T12:29:07.310266Z"
    }
   },
   "outputs": [],
   "source": [
    "p = \"typeform/distilbert-base-uncased-mnli\"\n",
    "mnli = pipeline(\"zero-shot-classification\",device=device, model=p)\n",
    "mnli.model_identifier = p"
   ]
  },
  {
   "cell_type": "markdown",
   "id": "5a7d23f1",
   "metadata": {
    "heading_collapsed": true
   },
   "source": [
    "# ASI"
   ]
  },
  {
   "cell_type": "code",
   "execution_count": null,
   "id": "069f18db-81da-4ea5-b7e2-cc7677ec6cb1",
   "metadata": {},
   "outputs": [],
   "source": [
    "import qpsychometric.social_biases.ambivalent_sexism_inventory.asi_qmnli\n",
    "from qpsychometric.social_biases.ambivalent_sexism_inventory.asi_qmnli import asi_qmnli"
   ]
  },
  {
   "cell_type": "code",
   "execution_count": null,
   "id": "66f53dd7",
   "metadata": {
    "ExecuteTime": {
     "end_time": "2024-05-19T09:02:49.846367Z",
     "start_time": "2024-05-19T09:02:49.602326Z"
    },
    "hidden": true
   },
   "outputs": [],
   "source": [
    "asi_questions_equalities = []\n",
    "\n",
    "for Q in tqdm(asi_qmnli):\n",
    "    Qs = split_question(Q,\n",
    "                        index=Q.index,\n",
    "                        scales=[Q.scale],\n",
    "                        softmax=[True],\n",
    "                        filters={'unfiltered':{},\n",
    "                                \"positiveonly\":Q().get_filter_for_postive_keywords()\n",
    "                                },\n",
    "                        )\n",
    "    print(Qs[0]._descriptor['Ordinal'])\n",
    "    Qs[0].run(mnli)\n",
    "    q_pdf = Qs[0]._pdf\n",
    "    Q_same = Q.__name__\n",
    "    Q_func = getattr(qpsychometric.social_biases.ambivalent_sexism_inventory.asi_qmnli, Q_same)\n",
    "    Qs = split_question(Q_func,\n",
    "                        index=Q_func.index,\n",
    "                        scales=[Q_func.scale],\n",
    "                        softmax=[True],\n",
    "                        filters={'unfiltered':{},\n",
    "                                \"positiveonly\":Q().get_filter_for_postive_keywords()\n",
    "                                },\n",
    "                        )\n",
    "    print(Qs[0]._descriptor['Ordinal'])\n",
    "    Qs[0].run(mnli)\n",
    "    asi_questions_equalities.append(q_pdf.equals(Qs[0]._pdf))\n",
    "\n",
    "all_good = False not in asi_questions_equalities\n",
    "print(\"All questions are good - \" + str(all_good))\n",
    "print(asi_questions_equalities)"
   ]
  },
  {
   "cell_type": "markdown",
   "id": "cade0913-e300-44a7-a9f6-c78a39f6d5f9",
   "metadata": {},
   "source": [
    "# BIG5"
   ]
  },
  {
   "cell_type": "code",
   "execution_count": null,
   "id": "2915d9c7-ba0b-423a-8202-20d60177eecc",
   "metadata": {
    "ExecuteTime": {
     "end_time": "2024-07-08T12:09:38.124715Z",
     "start_time": "2024-07-08T12:09:38.051244Z"
    }
   },
   "outputs": [],
   "source": [
    "import qpsychometric.personality_traits.big5.big5_qmnli\n",
    "from qpsychometric.personality_traits.big5.big5_qmnli import *"
   ]
  },
  {
   "cell_type": "code",
   "execution_count": null,
   "id": "23765023-0dff-41f8-ac65-0ccdbb2f9aa8",
   "metadata": {
    "ExecuteTime": {
     "end_time": "2024-07-08T12:10:19.934313Z",
     "start_time": "2024-07-08T12:10:16.554421Z"
    }
   },
   "outputs": [],
   "source": [
    "big5_questions_equalities = []\n",
    "\n",
    "for Q in tqdm(big5_qmnli):\n",
    "    Qs = split_question(Q,\n",
    "                        index=Q.index,\n",
    "                        scales=[Q.scale],\n",
    "                        softmax=[True],\n",
    "                        filters={'unfiltered':{},\n",
    "                                \"positiveonly\":Q().get_filter_for_postive_keywords()\n",
    "                                },\n",
    "                        )\n",
    "    print(Qs[0]._descriptor['Ordinal'])\n",
    "    Qs[0].run(mnli)\n",
    "    q_pdf = Qs[0]._pdf\n",
    "    Q_same = Q.__name__\n",
    "    Q_func = getattr(qpsychometric.personality_traits.big5.big5_qmnli, Q_same)\n",
    "    Qs = split_question(Q_func,\n",
    "                        index=Q_func.index,\n",
    "                        scales=[Q_func.scale],\n",
    "                        softmax=[True],\n",
    "                        filters={'unfiltered':{},\n",
    "                                \"positiveonly\":Q().get_filter_for_postive_keywords()\n",
    "                                },\n",
    "                        )\n",
    "    print(Qs[0]._descriptor['Ordinal'])\n",
    "    Qs[0].run(mnli)\n",
    "    big5_questions_equalities.append(q_pdf.equals(Qs[0]._pdf))\n",
    "\n",
    "all_good = False not in big5_questions_equalities\n",
    "print(\"All questions are good - \" + str(all_good))\n",
    "print(big5_questions_equalities)"
   ]
  },
  {
   "cell_type": "markdown",
   "id": "e30a9da5",
   "metadata": {},
   "source": [
    "# SD3"
   ]
  },
  {
   "cell_type": "code",
   "execution_count": null,
   "id": "1481b7d7",
   "metadata": {
    "ExecuteTime": {
     "end_time": "2024-07-08T12:09:38.124715Z",
     "start_time": "2024-07-08T12:09:38.051244Z"
    }
   },
   "outputs": [],
   "source": [
    "import qpsychometric.personality_traits.short_dark_triad.sd3_qmnli\n",
    "from qpsychometric.personality_traits.short_dark_triad.sd3_qmnli import *"
   ]
  },
  {
   "cell_type": "code",
   "execution_count": null,
   "id": "66a051cf",
   "metadata": {
    "ExecuteTime": {
     "end_time": "2024-07-08T12:10:19.934313Z",
     "start_time": "2024-07-08T12:10:16.554421Z"
    }
   },
   "outputs": [],
   "source": [
    "sd3_questions_equalities = []\n",
    "\n",
    "for Q in tqdm(sd3_qmnli):\n",
    "    Qs = split_question(Q,\n",
    "                        index=Q.index,\n",
    "                        scales=[Q.scale],\n",
    "                        softmax=[True],\n",
    "                        filters={'unfiltered':{},\n",
    "                                \"positiveonly\":Q().get_filter_for_postive_keywords()\n",
    "                                },\n",
    "                        )\n",
    "    print(Qs[0]._descriptor['Ordinal'])\n",
    "    Qs[0].run(mnli)\n",
    "    q_pdf = Qs[0]._pdf\n",
    "    Q_same = Q.__name__\n",
    "    Q_func = getattr(qpsychometric.personality_traits.short_dark_triad.sd3_qmnli, Q_same)\n",
    "    Qs = split_question(Q_func,\n",
    "                        index=Q_func.index,\n",
    "                        scales=[Q_func.scale],\n",
    "                        softmax=[True],\n",
    "                        filters={'unfiltered':{},\n",
    "                                \"positiveonly\":Q().get_filter_for_postive_keywords()\n",
    "                                },\n",
    "                        )\n",
    "    print(Qs[0]._descriptor['Ordinal'])\n",
    "    Qs[0].run(mnli)\n",
    "    sd3_questions_equalities.append(q_pdf.equals(Qs[0]._pdf))\n",
    "\n",
    "all_good = False not in sd3_questions_equalities\n",
    "print(\"All questions are good - \" + str(all_good))\n",
    "print(sd3_questions_equalities)"
   ]
  },
  {
   "cell_type": "markdown",
   "id": "9f643446-a5bd-45b3-bfe8-e7319cd8dcf9",
   "metadata": {},
   "source": [
    "# SOC"
   ]
  },
  {
   "cell_type": "code",
   "execution_count": null,
   "id": "b26d7673-e713-41ef-94d5-1cbcee52ba29",
   "metadata": {
    "ExecuteTime": {
     "end_time": "2024-07-08T12:09:38.124715Z",
     "start_time": "2024-07-08T12:09:38.051244Z"
    }
   },
   "outputs": [],
   "source": [
    "import qpsychometric.mental_health.sense_of_coherence.soc_qmnli\n",
    "from qpsychometric.mental_health.sense_of_coherence.soc_qmnli import *"
   ]
  },
  {
   "cell_type": "code",
   "execution_count": null,
   "id": "00bf29ee-65d6-4f5e-9f08-f1626e06365e",
   "metadata": {
    "ExecuteTime": {
     "end_time": "2024-07-08T12:10:19.934313Z",
     "start_time": "2024-07-08T12:10:16.554421Z"
    }
   },
   "outputs": [],
   "source": [
    "soc_questions_equalities = []\n",
    "\n",
    "for Q in tqdm(soc_qmnli):\n",
    "    Qs = split_question(Q,\n",
    "                        index=Q.index,\n",
    "                        scales=[Q.scale],\n",
    "                        softmax=[True],\n",
    "                        filters={'unfiltered':{},\n",
    "                                \"positiveonly\":Q().get_filter_for_postive_keywords()\n",
    "                                },\n",
    "                        )\n",
    "    print(Qs[0]._descriptor['Ordinal'])\n",
    "    Qs[0].run(mnli)\n",
    "    q_pdf = Qs[0]._pdf\n",
    "    Q_same = Q.__name__\n",
    "    Q_func = getattr(qpsychometric.mental_health.sense_of_coherence.soc_qmnli, Q_same)\n",
    "    Qs = split_question(Q_func,\n",
    "                        index=Q_func.index,\n",
    "                        scales=[Q_func.scale],\n",
    "                        softmax=[True],\n",
    "                        filters={'unfiltered':{},\n",
    "                                \"positiveonly\":Q().get_filter_for_postive_keywords()\n",
    "                                },\n",
    "                        )\n",
    "    print(Qs[0]._descriptor['Ordinal'])\n",
    "    Qs[0].run(mnli)\n",
    "    soc_questions_equalities.append(q_pdf.equals(Qs[0]._pdf))\n",
    "\n",
    "all_good = False not in soc_questions_equalities\n",
    "print(\"All questions are good - \" + str(all_good))\n",
    "print(soc_questions_equalities)"
   ]
  },
  {
   "cell_type": "markdown",
   "id": "3f459037-a855-4bb7-9a38-06bca97f5b6a",
   "metadata": {},
   "source": [
    "# PHQ"
   ]
  },
  {
   "cell_type": "code",
   "execution_count": null,
   "id": "6215b4f5-518a-46c4-affd-f1479f290ba8",
   "metadata": {
    "ExecuteTime": {
     "end_time": "2024-07-08T12:09:38.124715Z",
     "start_time": "2024-07-08T12:09:38.051244Z"
    }
   },
   "outputs": [],
   "source": [
    "import qpsychometric.mental_health.patient_health_questionnaire.phq_qmnli\n",
    "from qpsychometric.mental_health.patient_health_questionnaire.phq_qmnli import *"
   ]
  },
  {
   "cell_type": "code",
   "execution_count": null,
   "id": "245b8e98-9699-4729-aba7-e7ca03103ee5",
   "metadata": {
    "ExecuteTime": {
     "end_time": "2024-07-08T12:10:19.934313Z",
     "start_time": "2024-07-08T12:10:16.554421Z"
    }
   },
   "outputs": [],
   "source": [
    "phq_questions_equalities = []\n",
    "\n",
    "for Q in tqdm(phq_qmnli):\n",
    "    Qs = split_question(Q,\n",
    "                        index=Q.index,\n",
    "                        scales=[Q.scale],\n",
    "                        softmax=[True],\n",
    "                        filters={'unfiltered':{},\n",
    "                                \"positiveonly\":Q().get_filter_for_postive_keywords()\n",
    "                                },\n",
    "                        )\n",
    "    print(Qs[0]._descriptor['Ordinal'])\n",
    "    Qs[0].run(mnli)\n",
    "    q_pdf = Qs[0]._pdf\n",
    "    Q_same = Q.__name__\n",
    "    Q_func = getattr(qpsychometric.mental_health.patient_health_questionnaire.phq_qmnli, Q_same)\n",
    "    Qs = split_question(Q_func,\n",
    "                        index=Q_func.index,\n",
    "                        scales=[Q_func.scale],\n",
    "                        softmax=[True],\n",
    "                        filters={'unfiltered':{},\n",
    "                                \"positiveonly\":Q().get_filter_for_postive_keywords()\n",
    "                                },\n",
    "                        )\n",
    "    print(Qs[0]._descriptor['Ordinal'])\n",
    "    Qs[0].run(mnli)\n",
    "    phq_questions_equalities.append(q_pdf.equals(Qs[0]._pdf))\n",
    "\n",
    "all_good = False not in phq_questions_equalities\n",
    "print(\"All questions are good - \" + str(all_good))\n",
    "print(phq_questions_equalities)"
   ]
  },
  {
   "cell_type": "markdown",
   "id": "e03257aa-ca00-41a4-b73b-233bd0a79754",
   "metadata": {},
   "source": [
    "# GAD"
   ]
  },
  {
   "cell_type": "code",
   "execution_count": null,
   "id": "cdb5214e-9f4a-4bc7-aef2-182146afbf79",
   "metadata": {
    "ExecuteTime": {
     "end_time": "2024-07-08T12:09:38.124715Z",
     "start_time": "2024-07-08T12:09:38.051244Z"
    }
   },
   "outputs": [],
   "source": [
    "import qpsychometric.mental_health.generalized_anxiety_disorder.gad_qmnli\n",
    "from qpsychometric.mental_health.generalized_anxiety_disorder.gad_qmnli import *"
   ]
  },
  {
   "cell_type": "code",
   "execution_count": null,
   "id": "c27ae76d-3464-4422-b942-8a4d0356ee78",
   "metadata": {
    "ExecuteTime": {
     "end_time": "2024-07-08T12:10:19.934313Z",
     "start_time": "2024-07-08T12:10:16.554421Z"
    },
    "scrolled": true
   },
   "outputs": [],
   "source": [
    "gad_questions_equalities = []\n",
    "\n",
    "for Q in tqdm(gad_qmnli):\n",
    "    Qs = split_question(Q,\n",
    "                        index=Q.index,\n",
    "                        scales=[Q.scale],\n",
    "                        softmax=[True],\n",
    "                        filters={'unfiltered':{},\n",
    "                                \"positiveonly\":Q().get_filter_for_postive_keywords()\n",
    "                                },\n",
    "                        )\n",
    "    print(Qs[0]._descriptor['Ordinal'])\n",
    "    Qs[0].run(mnli)\n",
    "    q_pdf = Qs[0]._pdf\n",
    "    Q_same = Q.__name__\n",
    "    Q_func = getattr(qpsychometric.mental_health.generalized_anxiety_disorder.gad_qmnli, Q_same)\n",
    "    Qs = split_question(Q_func,\n",
    "                        index=Q_func.index,\n",
    "                        scales=[Q_func.scale],\n",
    "                        softmax=[True],\n",
    "                        filters={'unfiltered':{},\n",
    "                                \"positiveonly\":Q().get_filter_for_postive_keywords()\n",
    "                                },\n",
    "                        )\n",
    "    print(Qs[0]._descriptor['Ordinal'])\n",
    "    Qs[0].run(mnli)\n",
    "    gad_questions_equalities.append(q_pdf.equals(Qs[0]._pdf))\n",
    "\n",
    "all_good = False not in gad_questions_equalities\n",
    "print(\"All questions are good - \" + str(all_good))\n",
    "print(gad_questions_equalities)"
   ]
  },
  {
   "cell_type": "markdown",
   "id": "1c617b56-b3e8-4501-9fc5-3dcf05a5e7a7",
   "metadata": {},
   "source": [
    "# Compassion Scale"
   ]
  },
  {
   "cell_type": "code",
   "execution_count": null,
   "id": "04d83b3e-f679-4066-9855-5d81d8a2e8f7",
   "metadata": {},
   "outputs": [],
   "source": [
    "import qpsychometric.personality_traits.compassion_scale.compassion_scale_qmnli\n",
    "from qpsychometric.personality_traits.compassion_scale.compassion_scale_qmnli import *"
   ]
  },
  {
   "cell_type": "code",
   "execution_count": null,
   "id": "867c903b-8711-41e0-b403-40748f3e967a",
   "metadata": {},
   "outputs": [],
   "source": [
    "compassion_scale_questions_equalities = []\n",
    "\n",
    "for Q in tqdm(compassion_scale_qmnli):\n",
    "    Qs = split_question(Q,\n",
    "                        index=Q.index,\n",
    "                        scales=[Q.scale],\n",
    "                        softmax=[True],\n",
    "                        filters={'unfiltered':{},\n",
    "                                \"positiveonly\":Q().get_filter_for_postive_keywords()\n",
    "                                },\n",
    "                        )\n",
    "    print(Qs[0]._descriptor['Ordinal'])\n",
    "    Qs[0].run(mnli)\n",
    "    q_pdf = Qs[0]._pdf\n",
    "    Q_same = Q.__name__\n",
    "    Q_func = getattr(qpsychometric.personality_traits.compassion_scale.compassion_scale_qmnli, Q_same)\n",
    "    Qs = split_question(Q_func,\n",
    "                        index=Q_func.index,\n",
    "                        scales=[Q_func.scale],\n",
    "                        softmax=[True],\n",
    "                        filters={'unfiltered':{},\n",
    "                                \"positiveonly\":Q().get_filter_for_postive_keywords()\n",
    "                                },\n",
    "                        )\n",
    "    print(Qs[0]._descriptor['Ordinal'])\n",
    "    Qs[0].run(mnli)\n",
    "    compassion_scale_questions_equalities.append(q_pdf.equals(Qs[0]._pdf))\n",
    "\n",
    "all_good = False not in compassion_scale_questions_equalities\n",
    "print(\"All questions are good - \" + str(all_good))\n",
    "print(compassion_scale_questions_equalities)"
   ]
  },
  {
   "cell_type": "markdown",
   "id": "2f3d6433",
   "metadata": {},
   "source": [
    "# Load all questions"
   ]
  },
  {
   "cell_type": "code",
   "execution_count": null,
   "id": "260fa225",
   "metadata": {
    "ExecuteTime": {
     "end_time": "2024-07-09T12:30:08.622756Z",
     "start_time": "2024-07-09T12:30:08.602790Z"
    }
   },
   "outputs": [],
   "source": [
    "import sys, importlib\n",
    "import qpsychometric\n",
    "importlib.reload(sys.modules['qpsychometric'])\n",
    "from qpsychometric.utils import load_questions"
   ]
  },
  {
   "cell_type": "code",
   "execution_count": null,
   "id": "4bf07046",
   "metadata": {
    "ExecuteTime": {
     "end_time": "2024-07-09T12:30:08.898538Z",
     "start_time": "2024-07-09T12:30:08.624405Z"
    }
   },
   "outputs": [],
   "source": [
    "all_qmnli = load_questions()"
   ]
  },
  {
   "cell_type": "code",
   "execution_count": null,
   "id": "0a193089",
   "metadata": {},
   "outputs": [],
   "source": [
    "all_questions_equalities = asi_questions_equalities + big5_questions_equalities + sd3_questions_equalities + soc_questions_equalities + phq_questions_equalities + gad_questions_equalities + compassion_scale_questions_equalities\n",
    "\n",
    "for Q in tqdm(all_qmnli):\n",
    "    Qs = split_question(Q,\n",
    "                        index=Q.index,\n",
    "                        scales=[Q.scale],\n",
    "                        softmax=[True],\n",
    "                        filters={'unfiltered':{},\n",
    "                                \"positiveonly\":Q().get_filter_for_postive_keywords()\n",
    "                                },\n",
    "                        )\n",
    "    print(Qs[0]._descriptor['Ordinal'])\n",
    "    Qs[0].run(mnli)\n",
    "\n",
    "all_good = False not in all_questions_equalities\n",
    "print(\"All questions are good - \" + str(all_good))\n",
    "print(all_questions_equalities)"
   ]
  },
  {
   "cell_type": "code",
   "execution_count": null,
   "id": "52283dd9-22f6-4517-beda-75b6a968b709",
   "metadata": {},
   "outputs": [],
   "source": []
  }
 ],
 "metadata": {
  "kernelspec": {
   "display_name": "Python 3 (ipykernel)",
   "language": "python",
   "name": "python3"
  },
  "language_info": {
   "codemirror_mode": {
    "name": "ipython",
    "version": 3
   },
   "file_extension": ".py",
   "mimetype": "text/x-python",
   "name": "python",
   "nbconvert_exporter": "python",
   "pygments_lexer": "ipython3",
   "version": "3.11.7"
  },
  "toc": {
   "base_numbering": 1,
   "nav_menu": {},
   "number_sections": true,
   "sideBar": true,
   "skip_h1_title": false,
   "title_cell": "Table of Contents",
   "title_sidebar": "Contents",
   "toc_cell": false,
   "toc_position": {},
   "toc_section_display": true,
   "toc_window_display": false
  }
 },
 "nbformat": 4,
 "nbformat_minor": 5
}
